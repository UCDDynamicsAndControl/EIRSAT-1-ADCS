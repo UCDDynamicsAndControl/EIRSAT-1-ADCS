{
 "cells": [
  {
   "cell_type": "markdown",
   "metadata": {},
   "source": [
    "Deriving the equations of motion for the EIRSAT-1 cubesat using Kane's method"
   ]
  },
  {
   "cell_type": "code",
   "execution_count": 1,
   "metadata": {
    "collapsed": true
   },
   "outputs": [],
   "source": [
    "from sympy import *\n",
    "from sympy.physics.mechanics import *\n",
    "mechanics_printing()"
   ]
  },
  {
   "cell_type": "code",
   "execution_count": 94,
   "metadata": {},
   "outputs": [],
   "source": [
    "q0, q1, q2, q3  = dynamicsymbols('q_0 q_1 q_2 q_3')\n",
    "u1, u2, u3 ,u4 ,u5, u6  = dynamicsymbols('v_x v_y v_z omega_x omega_y omega_z')\n",
    "q0d, q1d, q2d, q3d = dynamicsymbols('q_0 q_1 q_2 q_3', 1)\n",
    "u1d, u2d, u3d, u4d, u5d, u6d = dynamicsymbols('v_x v_y v_z omega_x omega_y omega_z', 1)\n",
    "m, Ixx, Iyy, Izz, Ixy, Iyz, Izx = symbols('m I_{xx} I_{yy} I_{zz} I_{xy} I_{yz} I_{zx}')\n",
    "Fx, Fy, Fz, Mx, My, Mz = symbols('F_x F_y F_z M_x M_y M_z')\n",
    "q = Matrix([q0, q1, q2])\n",
    "qd = Matrix([q0d, q1d, q2d])\n",
    "w = Matrix([u4, u5, u6])"
   ]
  },
  {
   "cell_type": "code",
   "execution_count": 84,
   "metadata": {},
   "outputs": [],
   "source": [
    "N = ReferenceFrame('N') \n",
    "B = N.orientnew('B', 'Quaternion', [q0, q1, q2, q3])\n",
    "#omega_qd = B.ang_vel_in(N)\n",
    "B.set_ang_vel(N,u4*B.x + u5*B.y + u6*B.z)\n",
    "#kd_bod = [dot(B.ang_vel_in(N) - omega_qd, ijk) for ijk in B] + [q0*q0d+q1*q1d+q2*q2d+q3*q3d]"
   ]
  },
  {
   "cell_type": "code",
   "execution_count": 85,
   "metadata": {
    "collapsed": true
   },
   "outputs": [],
   "source": [
    "O = Point('O')\n",
    "O.set_vel(N,0)"
   ]
  },
  {
   "cell_type": "code",
   "execution_count": 86,
   "metadata": {
    "collapsed": true
   },
   "outputs": [],
   "source": [
    "CM = Point('CM')\n",
    "CM.set_vel(B,0)\n",
    "CM.set_vel(N,u1*N.x + u2*N.y + u3*N.z)"
   ]
  },
  {
   "cell_type": "code",
   "execution_count": 87,
   "metadata": {
    "collapsed": true
   },
   "outputs": [],
   "source": [
    "I = inertia(B, Ixx, Iyy, Izz, Ixy, Iyz, Izx)\n",
    "#I = inertia(B, Ixx, Iyy, Izz, 0, 0, 0)"
   ]
  },
  {
   "cell_type": "code",
   "execution_count": 88,
   "metadata": {},
   "outputs": [],
   "source": [
    "ForceList = [(CM, Fx*N.x + Fy*N.y + Fz*N.z), (B, Mx*B.x + My*B.y + Mz*B.z)]\n",
    "Body = RigidBody('Body', CM, B, m, (I, CM))\n",
    "BodyList = [Body]"
   ]
  },
  {
   "cell_type": "code",
   "execution_count": 114,
   "metadata": {},
   "outputs": [],
   "source": [
    "kd_bod = [i for i in qd - 0.5*(q3*w - w.cross(q))] + [q3d + 0.5*w.dot(q)]"
   ]
  },
  {
   "cell_type": "code",
   "execution_count": 119,
   "metadata": {},
   "outputs": [
    {
     "data": {
      "image/png": "[encoded data removed]",
      "text/latex": [
       "$$\\left[\\begin{matrix}F_{x} - m \\dot{v}_{x}\\\\F_{y} - m \\dot{v}_{y}\\\\F_{z} - m \\dot{v}_{z}\\\\- I_{xx} \\dot{\\omega}_{x} - I_{xy} \\dot{\\omega}_{y} - I_{zx} \\dot{\\omega}_{z} + M_{x} + \\left(I_{xy} \\omega_{x} + I_{yy} \\omega_{y} + I_{yz} \\omega_{z}\\right) \\omega_{z} - \\left(I_{yz} \\omega_{y} + I_{zx} \\omega_{x} + I_{zz} \\omega_{z}\\right) \\omega_{y}\\\\- I_{xy} \\dot{\\omega}_{x} - I_{yy} \\dot{\\omega}_{y} - I_{yz} \\dot{\\omega}_{z} + M_{y} - \\left(I_{xx} \\omega_{x} + I_{xy} \\omega_{y} + I_{zx} \\omega_{z}\\right) \\omega_{z} + \\left(I_{yz} \\omega_{y} + I_{zx} \\omega_{x} + I_{zz} \\omega_{z}\\right) \\omega_{x}\\\\- I_{yz} \\dot{\\omega}_{y} - I_{zx} \\dot{\\omega}_{x} - I_{zz} \\dot{\\omega}_{z} + M_{z} + \\left(I_{xx} \\omega_{x} + I_{xy} \\omega_{y} + I_{zx} \\omega_{z}\\right) \\omega_{y} - \\left(I_{xy} \\omega_{x} + I_{yy} \\omega_{y} + I_{yz} \\omega_{z}\\right) \\omega_{x}\\end{matrix}\\right]$$"
      ],
      "text/plain": [
       "⎡                                                             Fₓ - m⋅vₓ̇      \n",
       "⎢                                                                             \n",
       "⎢                                                            F_y - m⋅v_̇y     \n",
       "⎢                                                                             \n",
       "⎢                                                            F_z - m⋅v_̇z     \n",
       "⎢                                                                             \n",
       "⎢-I_{xx}⋅ωₓ̇ - I_{xy}⋅ω_̇y - I_{zx}⋅ω_̇z + Mₓ + (I_{xy}⋅ωₓ + I_{yy}⋅ω_y + I_{y\n",
       "⎢                                                                             \n",
       "⎢-I_{xy}⋅ωₓ̇ - I_{yy}⋅ω_̇y - I_{yz}⋅ω_̇z + M_y - (I_{xx}⋅ωₓ + I_{xy}⋅ω_y + I_{\n",
       "⎢                                                                             \n",
       "⎣-I_{yz}⋅ω_̇y - I_{zx}⋅ωₓ̇ - I_{zz}⋅ω_̇z + M_z + (I_{xx}⋅ωₓ + I_{xy}⋅ω_y + I_{\n",
       "\n",
       "                                                       ⎤\n",
       "                                                       ⎥\n",
       "                                                       ⎥\n",
       "                                                       ⎥\n",
       "                                                       ⎥\n",
       "                                                       ⎥\n",
       "z}⋅ω_z)⋅ω_z - (I_{yz}⋅ω_y + I_{zx}⋅ωₓ + I_{zz}⋅ω_z)⋅ω_y⎥\n",
       "                                                       ⎥\n",
       "zx}⋅ω_z)⋅ω_z + (I_{yz}⋅ω_y + I_{zx}⋅ωₓ + I_{zz}⋅ω_z)⋅ωₓ⎥\n",
       "                                                       ⎥\n",
       "zx}⋅ω_z)⋅ω_y - (I_{xy}⋅ωₓ + I_{yy}⋅ω_y + I_{yz}⋅ω_z)⋅ωₓ⎦"
      ]
     },
     "execution_count": 119,
     "metadata": {},
     "output_type": "execute_result"
    }
   ],
   "source": [
    "KM = KanesMethod(N, q_ind=[q0, q1, q2, q3], u_ind=[u1, u2, u3, u4, u5, u6], kd_eqs=kd_bod)\n",
    "(fr, frstar) = KM.kanes_equations(ForceList, BodyList)\n",
    "EOM = fr+frstar\n",
    "#Am, Bm, u = KM.linearize(new_method=True)\n",
    "simplify(EOM)"
   ]
  },
  {
   "cell_type": "code",
   "execution_count": 116,
   "metadata": {},
   "outputs": [],
   "source": [
    "f = open('eom.tex','w')\n",
    "f.write(vlatex(EOM))\n",
    "f.close()"
   ]
  },
  {
   "cell_type": "code",
   "execution_count": 117,
   "metadata": {},
   "outputs": [
    {
     "name": "stdout",
     "output_type": "stream",
     "text": [
      "Help on KanesMethod in module sympy.physics.mechanics.kane object:\n",
      "\n",
      "class KanesMethod(builtins.object)\n",
      " |  Kane's method object.\n",
      " |  \n",
      " |  This object is used to do the \"book-keeping\" as you go through and form\n",
      " |  equations of motion in the way Kane presents in:\n",
      " |  Kane, T., Levinson, D. Dynamics Theory and Applications. 1985 McGraw-Hill\n",
      " |  \n",
      " |  The attributes are for equations in the form [M] udot = forcing.\n",
      " |  \n",
      " |  Attributes\n",
      " |  ==========\n",
      " |  \n",
      " |  q, u : Matrix\n",
      " |      Matrices of the generalized coordinates and speeds\n",
      " |  bodylist : iterable\n",
      " |      Iterable of Point and RigidBody objects in the system.\n",
      " |  forcelist : iterable\n",
      " |      Iterable of (Point, vector) or (ReferenceFrame, vector) tuples\n",
      " |      describing the forces on the system.\n",
      " |  auxiliary : Matrix\n",
      " |      If applicable, the set of auxiliary Kane's\n",
      " |      equations used to solve for non-contributing\n",
      " |      forces.\n",
      " |  mass_matrix : Matrix\n",
      " |      The system's mass matrix\n",
      " |  forcing : Matrix\n",
      " |      The system's forcing vector\n",
      " |  mass_matrix_full : Matrix\n",
      " |      The \"mass matrix\" for the u's and q's\n",
      " |  forcing_full : Matrix\n",
      " |      The \"forcing vector\" for the u's and q's\n",
      " |  \n",
      " |  Examples\n",
      " |  ========\n",
      " |  \n",
      " |  This is a simple example for a one degree of freedom translational\n",
      " |  spring-mass-damper.\n",
      " |  \n",
      " |  In this example, we first need to do the kinematics.\n",
      " |  This involves creating generalized speeds and coordinates and their\n",
      " |  derivatives.\n",
      " |  Then we create a point and set its velocity in a frame.\n",
      " |  \n",
      " |      >>> from sympy import symbols\n",
      " |      >>> from sympy.physics.mechanics import dynamicsymbols, ReferenceFrame\n",
      " |      >>> from sympy.physics.mechanics import Point, Particle, KanesMethod\n",
      " |      >>> q, u = dynamicsymbols('q u')\n",
      " |      >>> qd, ud = dynamicsymbols('q u', 1)\n",
      " |      >>> m, c, k = symbols('m c k')\n",
      " |      >>> N = ReferenceFrame('N')\n",
      " |      >>> P = Point('P')\n",
      " |      >>> P.set_vel(N, u * N.x)\n",
      " |  \n",
      " |  Next we need to arrange/store information in the way that KanesMethod\n",
      " |  requires.  The kinematic differential equations need to be stored in a\n",
      " |  dict.  A list of forces/torques must be constructed, where each entry in\n",
      " |  the list is a (Point, Vector) or (ReferenceFrame, Vector) tuple, where the\n",
      " |  Vectors represent the Force or Torque.\n",
      " |  Next a particle needs to be created, and it needs to have a point and mass\n",
      " |  assigned to it.\n",
      " |  Finally, a list of all bodies and particles needs to be created.\n",
      " |  \n",
      " |  >>> kd = [qd - u]\n",
      " |  >>> FL = [(P, (-k * q - c * u) * N.x)]\n",
      " |  >>> pa = Particle('pa', P, m)\n",
      " |  >>> BL = [pa]\n",
      " |  \n",
      " |  Finally we can generate the equations of motion.\n",
      " |  First we create the KanesMethod object and supply an inertial frame,\n",
      " |  coordinates, generalized speeds, and the kinematic differential equations.\n",
      " |  Additional quantities such as configuration and motion constraints,\n",
      " |  dependent coordinates and speeds, and auxiliary speeds are also supplied\n",
      " |  here (see the online documentation).\n",
      " |  Next we form FR* and FR to complete: Fr + Fr* = 0.\n",
      " |  We have the equations of motion at this point.\n",
      " |  It makes sense to rearrnge them though, so we calculate the mass matrix and\n",
      " |  the forcing terms, for E.o.M. in the form: [MM] udot = forcing, where MM is\n",
      " |  the mass matrix, udot is a vector of the time derivatives of the\n",
      " |  generalized speeds, and forcing is a vector representing \"forcing\" terms.\n",
      " |  \n",
      " |      >>> KM = KanesMethod(N, q_ind=[q], u_ind=[u], kd_eqs=kd)\n",
      " |      >>> (fr, frstar) = KM.kanes_equations(FL, BL)\n",
      " |      >>> MM = KM.mass_matrix\n",
      " |      >>> forcing = KM.forcing\n",
      " |      >>> rhs = MM.inv() * forcing\n",
      " |      >>> rhs\n",
      " |      Matrix([[(-c*u(t) - k*q(t))/m]])\n",
      " |      >>> KM.linearize(A_and_B=True, new_method=True)[0]\n",
      " |      Matrix([\n",
      " |      [   0,    1],\n",
      " |      [-k/m, -c/m]])\n",
      " |  \n",
      " |  Please look at the documentation pages for more information on how to\n",
      " |  perform linearization and how to deal with dependent coordinates & speeds,\n",
      " |  and how do deal with bringing non-contributing forces into evidence.\n",
      " |  \n",
      " |  Methods defined here:\n",
      " |  \n",
      " |  __init__(self, frame, q_ind, u_ind, kd_eqs=None, q_dependent=None, configuration_constraints=None, u_dependent=None, velocity_constraints=None, acceleration_constraints=None, u_auxiliary=None)\n",
      " |      Please read the online documentation.\n",
      " |  \n",
      " |  kanes_equations(self, FL, BL)\n",
      " |      Method to form Kane's equations, Fr + Fr* = 0.\n",
      " |      \n",
      " |      Returns (Fr, Fr*). In the case where auxiliary generalized speeds are\n",
      " |      present (say, s auxiliary speeds, o generalized speeds, and m motion\n",
      " |      constraints) the length of the returned vectors will be o - m + s in\n",
      " |      length. The first o - m equations will be the constrained Kane's\n",
      " |      equations, then the s auxiliary Kane's equations. These auxiliary\n",
      " |      equations can be accessed with the auxiliary_eqs().\n",
      " |      \n",
      " |      Parameters\n",
      " |      ==========\n",
      " |      \n",
      " |      FL : list\n",
      " |          Takes in a list of (Point, Vector) or (ReferenceFrame, Vector)\n",
      " |          tuples which represent the force at a point or torque on a frame.\n",
      " |      BL : list\n",
      " |          A list of all RigidBody's and Particle's in the system.\n",
      " |  \n",
      " |  kindiffdict(self)\n",
      " |      Returns a dictionary mapping q' to u.\n",
      " |  \n",
      " |  linearize(self, **kwargs)\n",
      " |      Linearize the equations of motion about a symbolic operating point.\n",
      " |      \n",
      " |      If kwarg A_and_B is False (default), returns M, A, B, r for the\n",
      " |      linearized form, M*[q', u']^T = A*[q_ind, u_ind]^T + B*r.\n",
      " |      \n",
      " |      If kwarg A_and_B is True, returns A, B, r for the linearized form\n",
      " |      dx = A*x + B*r, where x = [q_ind, u_ind]^T. Note that this is\n",
      " |      computationally intensive if there are many symbolic parameters. For\n",
      " |      this reason, it may be more desirable to use the default A_and_B=False,\n",
      " |      returning M, A, and B. Values may then be substituted in to these\n",
      " |      matrices, and the state space form found as\n",
      " |      A = P.T*M.inv()*A, B = P.T*M.inv()*B, where P = Linearizer.perm_mat.\n",
      " |      \n",
      " |      In both cases, r is found as all dynamicsymbols in the equations of\n",
      " |      motion that are not part of q, u, q', or u'. They are sorted in\n",
      " |      canonical form.\n",
      " |      \n",
      " |      The operating points may be also entered using the ``op_point`` kwarg.\n",
      " |      This takes a dictionary of {symbol: value}, or a an iterable of such\n",
      " |      dictionaries. The values may be numberic or symbolic. The more values\n",
      " |      you can specify beforehand, the faster this computation will run.\n",
      " |      \n",
      " |      As part of the deprecation cycle, the new method will not be used unless\n",
      " |      the kwarg ``new_method`` is set to True. If the kwarg is missing, or set\n",
      " |      to false, the old linearization method will be used. After next release\n",
      " |      the need for this kwarg will be removed.\n",
      " |      \n",
      " |      For more documentation, please see the ``Linearizer`` class.\n",
      " |  \n",
      " |  rhs(self, inv_method=None)\n",
      " |      Returns the system's equations of motion in first order form.\n",
      " |      \n",
      " |      The output of this will be the right hand side of:\n",
      " |      \n",
      " |      [qdot, udot].T = f(q, u, t)\n",
      " |      \n",
      " |      Or, the equations of motion in first order form.  The right hand side\n",
      " |      is what is needed by most numerical ODE integrators.\n",
      " |      \n",
      " |      Parameters\n",
      " |      ==========\n",
      " |      \n",
      " |      inv_method : str\n",
      " |          The specific sympy inverse matrix calculation method to use. For a\n",
      " |          list of valid methods, see\n",
      " |          :meth:`~sympy.matrices.matrices.MatrixBase.inv`\n",
      " |  \n",
      " |  to_linearizer(self)\n",
      " |      Returns an instance of the Linearizer class, initiated from the\n",
      " |      data in the KanesMethod class. This may be more desirable than using\n",
      " |      the linearize class method, as the Linearizer object will allow more\n",
      " |      efficient recalculation (i.e. about varying operating points).\n",
      " |  \n",
      " |  ----------------------------------------------------------------------\n",
      " |  Data descriptors defined here:\n",
      " |  \n",
      " |  __dict__\n",
      " |      dictionary for instance variables (if defined)\n",
      " |  \n",
      " |  __weakref__\n",
      " |      list of weak references to the object (if defined)\n",
      " |  \n",
      " |  auxiliary_eqs\n",
      " |      A matrix containing the auxiliary equations.\n",
      " |  \n",
      " |  bodylist\n",
      " |  \n",
      " |  forcelist\n",
      " |  \n",
      " |  forcing\n",
      " |      The forcing vector of the system.\n",
      " |  \n",
      " |  forcing_full\n",
      " |      The forcing vector of the system, augmented by the kinematic\n",
      " |      differential equations.\n",
      " |  \n",
      " |  mass_matrix\n",
      " |      The mass matrix of the system.\n",
      " |  \n",
      " |  mass_matrix_full\n",
      " |      The mass matrix of the system, augmented by the kinematic\n",
      " |      differential equations.\n",
      " |  \n",
      " |  q\n",
      " |  \n",
      " |  u\n",
      "\n"
     ]
    }
   ],
   "source": [
    "help(KM)"
   ]
  },
  {
   "cell_type": "code",
   "execution_count": 118,
   "metadata": {},
   "outputs": [
    {
     "data": {
      "image/png": "[encoded data removed]",
      "text/latex": [
       "$$\\left[\\begin{matrix}0.5 \\omega_{x} q_{3} - 0.5 \\omega_{y} q_{2} + 0.5 \\omega_{z} q_{1}\\\\0.5 \\omega_{x} q_{2} + 0.5 \\omega_{y} q_{3} - 0.5 \\omega_{z} q_{0}\\\\- 0.5 \\omega_{x} q_{1} + 0.5 \\omega_{y} q_{0} + 0.5 \\omega_{z} q_{3}\\\\- 0.5 \\omega_{x} q_{0} - 0.5 \\omega_{y} q_{1} - 0.5 \\omega_{z} q_{2}\\\\F_{x}\\\\F_{y}\\\\F_{z}\\\\M_{x} + \\left(I_{xy} \\omega_{x} + I_{yy} \\omega_{y} + I_{yz} \\omega_{z}\\right) \\omega_{z} - \\left(I_{yz} \\omega_{y} + I_{zx} \\omega_{x} + I_{zz} \\omega_{z}\\right) \\omega_{y}\\\\M_{y} - \\left(I_{xx} \\omega_{x} + I_{xy} \\omega_{y} + I_{zx} \\omega_{z}\\right) \\omega_{z} + \\left(I_{yz} \\omega_{y} + I_{zx} \\omega_{x} + I_{zz} \\omega_{z}\\right) \\omega_{x}\\\\M_{z} + \\left(I_{xx} \\omega_{x} + I_{xy} \\omega_{y} + I_{zx} \\omega_{z}\\right) \\omega_{y} - \\left(I_{xy} \\omega_{x} + I_{yy} \\omega_{y} + I_{yz} \\omega_{z}\\right) \\omega_{x}\\end{matrix}\\right]$$"
      ],
      "text/plain": [
       "⎡                           0.5⋅ωₓ⋅q₃ - 0.5⋅ω_y⋅q₂ + 0.5⋅ω_z⋅q₁               \n",
       "⎢                                                                             \n",
       "⎢                           0.5⋅ωₓ⋅q₂ + 0.5⋅ω_y⋅q₃ - 0.5⋅ω_z⋅q₀               \n",
       "⎢                                                                             \n",
       "⎢                           -0.5⋅ωₓ⋅q₁ + 0.5⋅ω_y⋅q₀ + 0.5⋅ω_z⋅q₃              \n",
       "⎢                                                                             \n",
       "⎢                           -0.5⋅ωₓ⋅q₀ - 0.5⋅ω_y⋅q₁ - 0.5⋅ω_z⋅q₂              \n",
       "⎢                                                                             \n",
       "⎢                                            Fₓ                               \n",
       "⎢                                                                             \n",
       "⎢                                           F_y                               \n",
       "⎢                                                                             \n",
       "⎢                                           F_z                               \n",
       "⎢                                                                             \n",
       "⎢Mₓ + (I_{xy}⋅ωₓ + I_{yy}⋅ω_y + I_{yz}⋅ω_z)⋅ω_z - (I_{yz}⋅ω_y + I_{zx}⋅ωₓ + I_\n",
       "⎢                                                                             \n",
       "⎢M_y - (I_{xx}⋅ωₓ + I_{xy}⋅ω_y + I_{zx}⋅ω_z)⋅ω_z + (I_{yz}⋅ω_y + I_{zx}⋅ωₓ + I\n",
       "⎢                                                                             \n",
       "⎣M_z + (I_{xx}⋅ωₓ + I_{xy}⋅ω_y + I_{zx}⋅ω_z)⋅ω_y - (I_{xy}⋅ωₓ + I_{yy}⋅ω_y + I\n",
       "\n",
       "             ⎤\n",
       "             ⎥\n",
       "             ⎥\n",
       "             ⎥\n",
       "             ⎥\n",
       "             ⎥\n",
       "             ⎥\n",
       "             ⎥\n",
       "             ⎥\n",
       "             ⎥\n",
       "             ⎥\n",
       "             ⎥\n",
       "             ⎥\n",
       "             ⎥\n",
       "{zz}⋅ω_z)⋅ω_y⎥\n",
       "             ⎥\n",
       "_{zz}⋅ω_z)⋅ωₓ⎥\n",
       "             ⎥\n",
       "_{yz}⋅ω_z)⋅ωₓ⎦"
      ]
     },
     "execution_count": 118,
     "metadata": {},
     "output_type": "execute_result"
    }
   ],
   "source": [
    "KM.forcing_full"
   ]
  },
  {
   "cell_type": "code",
   "execution_count": null,
   "metadata": {
    "collapsed": true
   },
   "outputs": [],
   "source": []
  }
 ],
 "metadata": {
  "kernelspec": {
   "display_name": "Python 3",
   "language": "python",
   "name": "python3"
  },
  "language_info": {
   "codemirror_mode": {
    "name": "ipython",
    "version": 3
   },
   "file_extension": ".py",
   "mimetype": "text/x-python",
   "name": "python",
   "nbconvert_exporter": "python",
   "pygments_lexer": "ipython3",
   "version": "3.6.1"
  }
 },
 "nbformat": 4,
 "nbformat_minor": 2
}
